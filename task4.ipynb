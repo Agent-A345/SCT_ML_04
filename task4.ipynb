!git clone https://github.com/ardamavi/Sign-Language-Digits-Dataset.git

# Imports 
import os
import cv2
import numpy as np
import matplotlib.pyplot as plt
from sklearn.model_selection import train_test_split
from sklearn.svm import SVC
from sklearn.metrics import accuracy_score, classification_report, confusion_matrix
import seaborn as sns

# Configure
DATADIR = "Sign-Language-Digits-Dataset/Dataset"  # change path if needed
CATEGORIES = [str(i) for i in range(10)]  # Labels: 0 to 9
IMG_SIZE = 64

# Load and Preprocess 
data = []

for category in CATEGORIES:
    folder_path = os.path.join(DATADIR, category)
    label = int(category)
    for img_name in os.listdir(folder_path):
        img_path = os.path.join(folder_path, img_name)
        try:
            img = cv2.imread(img_path, cv2.IMREAD_GRAYSCALE)
            img = cv2.resize(img, (IMG_SIZE, IMG_SIZE))
            data.append([img.flatten(), label])
        except:
            pass

# Shuffle and Split 
np.random.shuffle(data)
X = np.array([i[0] for i in data])
y = np.array([i[1] for i in data])

# Visualization of Sample Images 
plt.figure(figsize=(10, 4))
for i in range(10):
    plt.subplot(2, 5, i+1)
    img = X[i].reshape(IMG_SIZE, IMG_SIZE)
    plt.imshow(img, cmap='gray')
    plt.title(f"Label: {y[i]}")
    plt.axis("off")
plt.tight_layout()
plt.show()

# Train-Test Split 
X_train, X_test, y_train, y_test = train_test_split(X, y, test_size=0.2, random_state=42)

# Train SVM 
svm_model = SVC(kernel='rbf', gamma='scale', C=10)
svm_model.fit(X_train, y_train)

# Evaluate Model 
y_pred = svm_model.predict(X_test)

acc = accuracy_score(y_test, y_pred)
print(f"🔵 Model Accuracy: {acc * 100:.2f}%\n")
print("📊 Classification Report:\n", classification_report(y_test, y_pred))

# Confusion Matrix 
plt.figure(figsize=(8, 6))
sns.heatmap(confusion_matrix(y_test, y_pred), annot=True, fmt='d', cmap='YlGnBu',
            xticklabels=CATEGORIES, yticklabels=CATEGORIES)
plt.title("Confusion Matrix")
plt.xlabel("Predicted")
plt.ylabel("Actual")
plt.show()

# ---------------- Show a Sample Prediction ----------------
idx = 10
plt.imshow(X_test[idx].reshape(IMG_SIZE, IMG_SIZE), cmap='gray')
plt.title(f"Actual: {y_test[idx]} | Predicted: {y_pred[idx]}")
plt.axis('off')
plt.show()
